{
 "cells": [
  {
   "cell_type": "markdown",
   "metadata": {},
   "source": [
    "Weight Initialization\n",
    "======"
   ]
  },
  {
   "cell_type": "code",
   "execution_count": 7,
   "metadata": {
    "collapsed": true
   },
   "outputs": [],
   "source": [
    "import os\n",
    "import math\n",
    "\n",
    "import torch\n",
    "import torch.nn as nn\n",
    "from torch.autograd import Variable\n",
    "import torch.nn.functional as F"
   ]
  },
  {
   "cell_type": "markdown",
   "metadata": {},
   "source": [
    "Parameter Settings\n",
    "-------------------\n"
   ]
  },
  {
   "cell_type": "code",
   "execution_count": 2,
   "metadata": {
    "collapsed": true
   },
   "outputs": [],
   "source": [
    "num_epochs = 20\n",
    "batch_size = 128\n",
    "learning_rate = 1e-3\n",
    "use_gpu = True"
   ]
  },
  {
   "cell_type": "markdown",
   "metadata": {},
   "source": [
    "MNIST Data Loading\n",
    "-------------------\n",
    "\n",
    "MNIST images show digits from 0-9 in 28x28 grayscale images. We normalize and center them around 0, which gives a slight performance boost during training.\n",
    "We create both a training set and a test set."
   ]
  },
  {
   "cell_type": "code",
   "execution_count": 3,
   "metadata": {
    "collapsed": true
   },
   "outputs": [],
   "source": [
    "import torchvision.transforms as transforms\n",
    "from torch.utils.data import DataLoader\n",
    "from torchvision.datasets import MNIST\n",
    "\n",
    "img_transform = transforms.Compose([\n",
    "    transforms.ToTensor(),\n",
    "    transforms.Normalize((0.5, 0.5, 0.5), (0.5, 0.5, 0.5))\n",
    "])\n",
    "\n",
    "train_dataset = MNIST(root='./data/MNIST', download=True, train=True, transform=img_transform)\n",
    "train_dataloader = DataLoader(train_dataset, batch_size=batch_size, shuffle=True)\n",
    "\n",
    "test_dataset = MNIST(root='./data/MNIST', download=True, train=False, transform=img_transform)\n",
    "test_dataloader = DataLoader(test_dataset, batch_size=batch_size, shuffle=True)"
   ]
  },
  {
   "cell_type": "markdown",
   "metadata": {},
   "source": [
    "ConvNet Definition\n",
    "-----------------------\n"
   ]
  },
  {
   "cell_type": "code",
   "execution_count": 9,
   "metadata": {},
   "outputs": [
    {
     "name": "stdout",
     "output_type": "stream",
     "text": [
      "Number of parameters for each network: 25384\n"
     ]
    }
   ],
   "source": [
    "class ConvNet(nn.Module):\n",
    "    def __init__(self, init_type):\n",
    "        super(ConvNet, self).__init__()\n",
    "        \n",
    "        self.conv1 = nn.Conv2d(1, 8, kernel_size=4, stride=2, padding=1) # out: 8 x 14 x 14\n",
    "        self.conv2 = nn.Conv2d(8, 16, kernel_size=4, stride=2, padding=1) # out: 16 x 7 x 7\n",
    "        self.conv3 = nn.Conv2d(16, 32, kernel_size=4, stride=2, padding=1) # out: 32 x 3 x 3\n",
    "        self.fc1 = nn.Linear(288, 50)\n",
    "        self.fc2 = nn.Linear(50, 10) # 10 outputs: probability for each digit class\n",
    "        \n",
    "        self.init_weights(init_type)\n",
    "\n",
    "    def forward(self, x):\n",
    "        # convolutional part\n",
    "        x = F.relu(self.conv1(x))\n",
    "        x = F.relu(self.conv2(x))\n",
    "        x = F.relu(self.conv3(x))\n",
    "        x = x.view(x.size(0), -1) # flatten batch of multi-channel feature maps to a batch of feature vectors\n",
    "        \n",
    "        # fully connected part\n",
    "        x = F.relu(self.fc1(x))\n",
    "        x = F.log_softmax(self.fc2(x), dim=1) # last activation is log softmax to get log class probabilities\n",
    "        \n",
    "        return x\n",
    "    \n",
    "    def init_weights(self, init_type):\n",
    "        # iterate over all parameter tensors\n",
    "        for m in self.modules():\n",
    "\n",
    "            if isinstance(m, nn.Conv2d):\n",
    "                if init_type == 'zero':\n",
    "\n",
    "                    # initialize to zero\n",
    "                    m.weight.data.zero_()\n",
    "\n",
    "                elif init_type == 'normal':\n",
    "\n",
    "                    # initialization with a normal distribution of small variance\n",
    "                    m.weight.data.normal_(0, 0.01)\n",
    "\n",
    "                elif init_type == 'kaiming':\n",
    "\n",
    "                    # kaiming initialization for convolutional layers\n",
    "                    # this is equivalent to nn.init.kaiming_normal(m.weight.data)\n",
    "                    fan_in = m.kernel_size[0] * m.kernel_size[1] * m.out_channels\n",
    "                    m.weight.data.normal_(0, math.sqrt(2. / fan_in))\n",
    "\n",
    "                else:\n",
    "                    raise ValueError('bad initialization type')\n",
    "\n",
    "                # bias can be initialized to 0\n",
    "                m.bias.data.zero_()\n",
    "            \n",
    "            elif isinstance(m, nn.Linear):\n",
    "                if init_type == 'zero':\n",
    "\n",
    "                    # initialize to zero\n",
    "                    m.weight.data.zero_()\n",
    "\n",
    "                elif init_type == 'normal':\n",
    "\n",
    "                    # initialization with a normal distribution of small variance\n",
    "                    m.weight.data.normal_(0, 0.01)\n",
    "\n",
    "                elif init_type == 'kaiming':\n",
    "\n",
    "                    # kaiming initialization for convolutional layers\n",
    "                    # this is equivalent to nn.init.kaiming_normal(m.weight.data)\n",
    "                    fan_in = m.in_features\n",
    "                    m.weight.data.normal_(0, math.sqrt(2. / fan_in))\n",
    "\n",
    "                else:\n",
    "                    raise ValueError('bad initialization type')\n",
    "                \n",
    "                # bias can be initialized to 0\n",
    "                m.bias.data.zero_()\n",
    "\n",
    "convnet_zero = ConvNet('zero')\n",
    "convnet_normal = ConvNet('normal')\n",
    "convnet_kaiming = ConvNet('kaiming')\n",
    "if use_gpu:\n",
    "    convnet_zero = convnet_zero.cuda()\n",
    "    convnet_normal = convnet_normal.cuda()\n",
    "    convnet_kaiming = convnet_kaiming.cuda()\n",
    "\n",
    "num_params = sum(p.numel() for p in convnet_zero.parameters() if p.requires_grad)\n",
    "print('Number of parameters for each network: %d' % num_params)"
   ]
  },
  {
   "cell_type": "markdown",
   "metadata": {},
   "source": [
    "Train ConvNets\n",
    "--------\n"
   ]
  },
  {
   "cell_type": "code",
   "execution_count": 10,
   "metadata": {
    "scrolled": true
   },
   "outputs": [
    {
     "name": "stdout",
     "output_type": "stream",
     "text": [
      "Training convnet with zero initialization ...\n",
      "Epoch [1 / 20] average reconstruction error: 2.301648\n",
      "Epoch [2 / 20] average reconstruction error: 2.301277\n",
      "Epoch [3 / 20] average reconstruction error: 2.301270\n",
      "Epoch [4 / 20] average reconstruction error: 2.301271\n",
      "Epoch [5 / 20] average reconstruction error: 2.301265\n",
      "Epoch [6 / 20] average reconstruction error: 2.301262\n",
      "Epoch [7 / 20] average reconstruction error: 2.301260\n",
      "Epoch [8 / 20] average reconstruction error: 2.301275\n",
      "Epoch [9 / 20] average reconstruction error: 2.301264\n",
      "Epoch [10 / 20] average reconstruction error: 2.301272\n",
      "Epoch [11 / 20] average reconstruction error: 2.301224\n",
      "Epoch [12 / 20] average reconstruction error: 2.301279\n",
      "Epoch [13 / 20] average reconstruction error: 2.301273\n",
      "Epoch [14 / 20] average reconstruction error: 2.301262\n",
      "Epoch [15 / 20] average reconstruction error: 2.301255\n",
      "Epoch [16 / 20] average reconstruction error: 2.301270\n",
      "Epoch [17 / 20] average reconstruction error: 2.301252\n",
      "Epoch [18 / 20] average reconstruction error: 2.301291\n",
      "Epoch [19 / 20] average reconstruction error: 2.301273\n",
      "Epoch [20 / 20] average reconstruction error: 2.301261\n",
      "Training convnet with normal initialization ...\n",
      "Epoch [1 / 20] average reconstruction error: 0.825222\n",
      "Epoch [2 / 20] average reconstruction error: 0.217983\n",
      "Epoch [3 / 20] average reconstruction error: 0.131639\n",
      "Epoch [4 / 20] average reconstruction error: 0.099107\n",
      "Epoch [5 / 20] average reconstruction error: 0.082674\n",
      "Epoch [6 / 20] average reconstruction error: 0.071990\n",
      "Epoch [7 / 20] average reconstruction error: 0.063925\n",
      "Epoch [8 / 20] average reconstruction error: 0.058220\n",
      "Epoch [9 / 20] average reconstruction error: 0.053008\n",
      "Epoch [10 / 20] average reconstruction error: 0.049556\n",
      "Epoch [11 / 20] average reconstruction error: 0.043981\n",
      "Epoch [12 / 20] average reconstruction error: 0.040196\n",
      "Epoch [13 / 20] average reconstruction error: 0.038482\n",
      "Epoch [14 / 20] average reconstruction error: 0.034878\n",
      "Epoch [15 / 20] average reconstruction error: 0.032269\n",
      "Epoch [16 / 20] average reconstruction error: 0.029315\n",
      "Epoch [17 / 20] average reconstruction error: 0.028119\n",
      "Epoch [18 / 20] average reconstruction error: 0.025148\n",
      "Epoch [19 / 20] average reconstruction error: 0.023774\n",
      "Epoch [20 / 20] average reconstruction error: 0.022287\n",
      "Training convnet with kaiming initialization ...\n",
      "Epoch [1 / 20] average reconstruction error: 0.377827\n",
      "Epoch [2 / 20] average reconstruction error: 0.107877\n",
      "Epoch [3 / 20] average reconstruction error: 0.071730\n",
      "Epoch [4 / 20] average reconstruction error: 0.057426\n",
      "Epoch [5 / 20] average reconstruction error: 0.047791\n",
      "Epoch [6 / 20] average reconstruction error: 0.038826\n",
      "Epoch [7 / 20] average reconstruction error: 0.033689\n",
      "Epoch [8 / 20] average reconstruction error: 0.029972\n",
      "Epoch [9 / 20] average reconstruction error: 0.025827\n",
      "Epoch [10 / 20] average reconstruction error: 0.022862\n",
      "Epoch [11 / 20] average reconstruction error: 0.020311\n",
      "Epoch [12 / 20] average reconstruction error: 0.018939\n",
      "Epoch [13 / 20] average reconstruction error: 0.015396\n",
      "Epoch [14 / 20] average reconstruction error: 0.013862\n",
      "Epoch [15 / 20] average reconstruction error: 0.014338\n",
      "Epoch [16 / 20] average reconstruction error: 0.012522\n",
      "Epoch [17 / 20] average reconstruction error: 0.011540\n",
      "Epoch [18 / 20] average reconstruction error: 0.009553\n",
      "Epoch [19 / 20] average reconstruction error: 0.008813\n",
      "Epoch [20 / 20] average reconstruction error: 0.011132\n"
     ]
    }
   ],
   "source": [
    "def train_convnet(convnet):\n",
    "    optimizer = torch.optim.Adam(params=convnet.parameters(), lr=learning_rate)\n",
    "\n",
    "    # set to training mode\n",
    "    convnet.train()\n",
    "\n",
    "    train_loss_avg = []\n",
    "\n",
    "    for epoch in range(num_epochs):\n",
    "        train_loss_avg.append(0)\n",
    "        num_batches = 0\n",
    "\n",
    "        for image_batch, label_batch in train_dataloader:\n",
    "\n",
    "            image_batch = Variable(image_batch)\n",
    "            label_batch = Variable(label_batch)\n",
    "            if use_gpu:\n",
    "                image_batch = image_batch.cuda()\n",
    "                label_batch = label_batch.cuda()\n",
    "\n",
    "            # class predictions\n",
    "            prediction_batch = convnet(image_batch)\n",
    "\n",
    "            # The cross-entropy loss.\n",
    "            # The first input are the predicted log class probabilities.\n",
    "            # The ground truth probabilites for each image are expected to be\n",
    "            # 1 for a single class and 0 for all other classes.\n",
    "            # This function expects as second input the index of the class with probability 1.\n",
    "            # (this function is not called cross-entropy, since this function assumes\n",
    "            # that the inputs are log probabilities, not probabilities).\n",
    "            loss = F.nll_loss(prediction_batch, label_batch)\n",
    "\n",
    "            # backpropagation\n",
    "            optimizer.zero_grad()\n",
    "            loss.backward()\n",
    "\n",
    "            # one step of the optmizer (using the gradients from backpropagation)\n",
    "            optimizer.step()\n",
    "\n",
    "            train_loss_avg[-1] += loss.data[0]\n",
    "            num_batches += 1\n",
    "\n",
    "        train_loss_avg[-1] /= num_batches\n",
    "        print('Epoch [%d / %d] average loss: %f' % (epoch+1, num_epochs, train_loss_avg[-1]))\n",
    "    \n",
    "    return train_loss_avg\n",
    "        \n",
    "print('Training convnet with zero initialization ...')\n",
    "train_loss_zero = train_convnet(convnet_zero)\n",
    "print('Training convnet with normal initialization ...')\n",
    "train_loss_normal = train_convnet(convnet_normal)\n",
    "print('Training convnet with kaiming initialization ...')\n",
    "train_loss_kaiming = train_convnet(convnet_kaiming)"
   ]
  },
  {
   "cell_type": "markdown",
   "metadata": {},
   "source": [
    "Alternatively: Load Pre-Trained Model and Loss Histories\n",
    "-----------------------------"
   ]
  },
  {
   "cell_type": "code",
   "execution_count": 18,
   "metadata": {
    "collapsed": true
   },
   "outputs": [],
   "source": [
    "convnet_zero.load_state_dict(torch.load('./pretrained/convnet_init_zero.pth'))\n",
    "convnet_normal.load_state_dict(torch.load('./pretrained/convnet_init_normal.pth'))\n",
    "convnet_kaiming.load_state_dict(torch.load('./pretrained/convnet_init_kaiming.pth'))\n",
    "train_loss_zero = torch.load('./pretrained/convnet_init_zero_losshist.pth')\n",
    "train_loss_normal = torch.load('./pretrained/convnet_init_normal_losshist.pth')\n",
    "train_loss_kaiming = torch.load('./pretrained/convnet_init_kaiming_losshist.pth')\n",
    "\n",
    "# this is how the model parameters and loss histories can be saved:\n",
    "# torch.save(convnet_zero.state_dict(), './pretrained/my_convnet_init_zero.pth')\n",
    "# torch.save(convnet_normal.state_dict(), './pretrained/my_convnet_init_normal.pth')\n",
    "# torch.save(convnet_kaiming.state_dict(), './pretrained/my_convnet_init_kaiming.pth')\n",
    "# torch.save(train_loss_zero, './pretrained/my_convnet_init_zero_losshist.pth')\n",
    "# torch.save(train_loss_normal, './pretrained/my_convnet_init_normal_losshist.pth')\n",
    "# torch.save(train_loss_kaiming, './pretrained/my_convnet_init_kaiming_losshist.pth')"
   ]
  },
  {
   "cell_type": "markdown",
   "metadata": {},
   "source": [
    "Plot Training Curve\n",
    "--------------------"
   ]
  },
  {
   "cell_type": "code",
   "execution_count": 21,
   "metadata": {},
   "outputs": [
    {
     "data": {
      "image/png": "[encoded data removed]",
      "text/plain": [
       "<matplotlib.figure.Figure at 0x7fad00783400>"
      ]
     },
     "metadata": {},
     "output_type": "display_data"
    }
   ],
   "source": [
    "import matplotlib.pyplot as plt\n",
    "plt.ion()\n",
    "\n",
    "fig = plt.figure(figsize=(15, 5))\n",
    "plt.plot(train_loss_zero, label='zero')\n",
    "plt.plot(train_loss_normal, label='normal')\n",
    "plt.plot(train_loss_kaiming, label='kaiming')\n",
    "plt.xlabel('Epochs')\n",
    "plt.ylabel('Cross-entropy loss')\n",
    "plt.legend()\n",
    "plt.show()"
   ]
  }
 ],
 "metadata": {
  "kernelspec": {
   "display_name": "Python 3",
   "language": "python",
   "name": "python3"
  },
  "language_info": {
   "codemirror_mode": {
    "name": "ipython",
    "version": 3
   },
   "file_extension": ".py",
   "mimetype": "text/x-python",
   "name": "python",
   "nbconvert_exporter": "python",
   "pygments_lexer": "ipython3",
   "version": "3.6.1"
  }
 },
 "nbformat": 4,
 "nbformat_minor": 2
}
