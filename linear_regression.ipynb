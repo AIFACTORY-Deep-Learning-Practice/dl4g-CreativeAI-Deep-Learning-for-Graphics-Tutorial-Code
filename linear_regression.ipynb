{
 "cells": [
  {
   "cell_type": "code",
   "execution_count": 50,
   "metadata": {},
   "outputs": [
    {
     "name": "stdout",
     "output_type": "stream",
     "text": [
      "(2, 2)\n"
     ]
    },
    {
     "data": {
      "image/png": "[encoded data removed]",
      "text/plain": [
       "<Figure size 432x288 with 1 Axes>"
      ]
     },
     "metadata": {},
     "output_type": "display_data"
    }
   ],
   "source": [
    "import numpy as np\n",
    "from numpy import array\n",
    "from numpy import matmul\n",
    "from numpy.linalg import inv\n",
    "from numpy.random import rand\n",
    "from matplotlib import pyplot\n",
    "\n",
    "# generate data on a line perturbed with some noise\n",
    "noise_margin= 0.5\n",
    "w = rand(2,1) # w[0] is random constant term (offset from origin), w[1] is random linear term (slope)\n",
    "x  = np.linspace(-5,5,20)\n",
    "y = w[0] + w[1]*x + noise_margin*rand(len(x))\n",
    "\n",
    "# create the design matrix: the x data, and add a column of ones for the constant term\n",
    "X = np.column_stack( [np.ones([len(x), 1]), x.reshape(-1, 1)] )\n",
    "\n",
    "# These are the normal equations in matrix form: w = (X' X)^-1 X' y\n",
    "#w_est = matmul(inv(matmul(X.transpose(),X)),X.transpose()).dot(y)\n",
    "\n",
    "# For ridge regression, we add a regularizer:\n",
    "# (reg_weight 0 reduces to the unregularized normal equation):\n",
    "reg_weight = 0.01\n",
    "w_est = matmul(inv(matmul(X.transpose(),X) + reg_weight*np.identity(2)),X.transpose()).dot(y)\n",
    "\n",
    "# evaluate the x values in the fitted model to get estimated y values\n",
    "y_est = w_est[0] + w[1]*x\n",
    "\n",
    "# visualize the fitted model\n",
    "pyplot.scatter(x, y)\n",
    "pyplot.plot(x, y_est, color='red')\n",
    "pyplot.show()"
   ]
  }
 ],
 "metadata": {
  "kernelspec": {
   "display_name": "Python 3",
   "language": "python",
   "name": "python3"
  },
  "language_info": {
   "codemirror_mode": {
    "name": "ipython",
    "version": 3
   },
   "file_extension": ".py",
   "mimetype": "text/x-python",
   "name": "python",
   "nbconvert_exporter": "python",
   "pygments_lexer": "ipython3",
   "version": "3.6.5"
  }
 },
 "nbformat": 4,
 "nbformat_minor": 2
}
