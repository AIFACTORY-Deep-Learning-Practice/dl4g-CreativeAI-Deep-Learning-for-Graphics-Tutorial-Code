{
 "cells": [
  {
   "cell_type": "code",
   "execution_count": null,
   "metadata": {},
   "outputs": [],
   "source": [
    "import os\n",
    "import zipfile\n",
    "import urllib.request\n",
    "\n",
    "source_url = 'http://geometry.cs.ucl.ac.uk/dl4g/pretrained.zip'\n",
    "target_file = 'pretrained.zip'\n",
    "\n",
    "downloaded = 0\n",
    "def show_progress(count, block_size, total_size):\n",
    "    global downloaded\n",
    "    downloaded += block_size\n",
    "    print('downloading ... %d%%' % round(((downloaded*100.0) / total_size)), end='\\r')\n",
    "\n",
    "print('downloading ... ', end='\\r')\n",
    "urllib.request.urlretrieve(source_url, filename=target_file, reporthook=show_progress)\n",
    "print('downloading ... done')\n",
    "\n",
    "print('unzipping ...', end='\\r')\n",
    "zip_ref = zipfile.ZipFile(target_file, 'r')\n",
    "zip_ref.extractall('./')\n",
    "zip_ref.close()\n",
    "os.remove(target_file)\n",
    "print('unzipping ... done')"
   ]
  }
 ],
 "metadata": {
  "kernelspec": {
   "display_name": "Python 3",
   "language": "python",
   "name": "python3"
  },
  "language_info": {
   "codemirror_mode": {
    "name": "ipython",
    "version": 3
   },
   "file_extension": ".py",
   "mimetype": "text/x-python",
   "name": "python",
   "nbconvert_exporter": "python",
   "pygments_lexer": "ipython3",
   "version": "3.6.1"
  }
 },
 "nbformat": 4,
 "nbformat_minor": 2
}
